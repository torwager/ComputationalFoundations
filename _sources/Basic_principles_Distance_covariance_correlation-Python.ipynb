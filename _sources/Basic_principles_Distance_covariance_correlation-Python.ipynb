{
 "cells": [
  {
   "cell_type": "markdown",
   "id": "5363d15e",
   "metadata": {},
   "source": [
    "# <span style=\"color:rgb(213,80,0)\">Fundamental statistical principles</span>\n",
    "\n",
    "&emsp;&emsp;Author: Paxton Fitzpatrick<br>&emsp;&emsp;Adapted from MATLAB version by Tor Wager, Fall 2023"
   ]
  },
  {
   "cell_type": "markdown",
   "id": "679ddfb3",
   "metadata": {},
   "source": [
    "## Table of Contents\n",
    "\n",
    "&emsp;&emsp;[Notebook setup](#Notebook-setup)  \n",
    "&emsp;&emsp;[Vectors and matrices](#Vectors-and-matrices)  \n",
    "&emsp;&emsp;[Vector similarity and distance](#Vector-similarity-and-distance)  \n",
    "&emsp;&emsp;[Vector magnitude, norm, and sums of squares](#Vector-magnitude,-norm,-and-sums-of-squares)  \n",
    "&emsp;&emsp;[Covariance and correlation](#Covariance-and-correlation)  \n",
    "&emsp;&emsp;[Orthogonality, correlation, and independence](#Orthogonality,-correlation,-and-independence)  \n",
    "&emsp;&emsp;[Projection](#Projection)\n",
    "\n",
    "[Extension to matrices](#Extension-to-matrices)  \n",
    "&emsp;&emsp;[Linear combinations](#Linear-combinations)  \n",
    "&emsp;&emsp;[Matrix variance/covariance](#Matrix-variance/covariance)  \n",
    "&emsp;&emsp;[Independence of columns](#Independence-of-columns)  \n",
    "&emsp;&emsp;[Basis sets](#Basis-sets)  \n",
    "&emsp;&emsp;[Rotations](#Rotations)  \n",
    "&emsp;&emsp;[Projections](#Projections)  \n",
    "&emsp;&emsp;[Multivariate distance (Mahalanobis)](#Multivariate-distance-(Mahalanobis))"
   ]
  },
  {
   "cell_type": "markdown",
   "id": "3fe36c6a",
   "metadata": {},
   "source": [
    "## Notebook setup\n",
    "\n",
    "These first two cells define some functions that help make the code and plots below look as similar to the MATLAB version of this notebook as possible. \n",
    "\n",
    "[**Click here to jump to the first section below**](#Vectors-and-matrices)."
   ]
  },
  {
   "cell_type": "code",
   "execution_count": 1,
   "id": "de64ce4f",
   "metadata": {
    "ExecuteTime": {
     "end_time": "2023-09-21T05:04:54.002135Z",
     "start_time": "2023-09-21T05:04:53.653559Z"
    }
   },
   "outputs": [],
   "source": [
    "import numpy as np\n",
    "import matplotlib.pyplot as plt\n",
    "from mpl_toolkits.mplot3d.art3d import Path3DCollection\n",
    "\n",
    "\n",
    "def draw_3d_axes(limits=1, xtick_freq=1, ytick_freq=1, ztick_freq=1, \n",
    "                 axes_kwargs=None, cross_kwargs=None, view_kwargs=None):\n",
    "    \"\"\"\n",
    "    Create and draw a set of 3D axes pre-styled to look as similar to \n",
    "    the MATLAB/CanlabCore version of this notebook as possible.\n",
    "    \"\"\"\n",
    "    # \"limits\" can be an int/float (min/max of all 3 axes), 3-tuple of \n",
    "    # int/float (min/max for each axis), or 3-tuple of 2-tuples \n",
    "    # (separate min & max for each axis)\n",
    "    if isinstance(limits, (int, float)):\n",
    "        xmin, ymin, zmin = (-limits,) * 3\n",
    "        xmax, ymax, zmax = (limits,) * 3\n",
    "    elif isinstance(limits, tuple):\n",
    "        if isinstance(limits[0], (int, float)):\n",
    "            xmin, ymin, zmin = (-i for i in limits)\n",
    "            xmax, ymax, zmax = limits\n",
    "        else:\n",
    "            (xmin, xmax), (ymin, ymax), (zmin, zmax) = limits\n",
    "    else:\n",
    "        raise ValueError(\n",
    "            \"'limits' may be an int/float, 3-tuple of int/float, or \"\n",
    "            \"3-tuple of 3-tuples of int/float\"\n",
    "        )\n",
    "        \n",
    "    xtick_freq = min(xtick_freq, abs(xmin), abs(xmax))\n",
    "    ytick_freq = min(ytick_freq, abs(ymin), abs(ymax))\n",
    "    ztick_freq = min(ztick_freq, abs(zmin), abs(zmax))\n",
    "        \n",
    "    axes_kwargs = axes_kwargs or {}\n",
    "    cross_kwargs = cross_kwargs or {}\n",
    "    view_kwargs = view_kwargs or {}\n",
    "    \n",
    "    fig = plt.figure()\n",
    "    ax = fig.add_subplot(projection='3d', computed_zorder=False)\n",
    "    \n",
    "    # plot cross at origin\n",
    "    cross_lw = cross_kwargs.pop('lw', cross_kwargs.pop('linewidth', 1.5))\n",
    "    ax.plot([xmin, xmax], [0, 0], [0, 0], c='k', lw=cross_lw, **cross_kwargs)\n",
    "    ax.plot([0, 0], [ymin, ymax], [0, 0], c='k', lw=cross_lw, **cross_kwargs)\n",
    "    ax.plot([0, 0], [0, 0], [zmin, zmax], c='k', lw=cross_lw, **cross_kwargs)\n",
    "    \n",
    "    # set axis limits, labels, ticks, and any other styling passed\n",
    "    xticks = axes_kwargs.pop('xticks', np.arange(xmin, xmax+xtick_freq, xtick_freq))\n",
    "    yticks = axes_kwargs.pop('yticks', np.arange(ymin, ymax+ytick_freq, ytick_freq))\n",
    "    zticks = axes_kwargs.pop('zticks', np.arange(zmin, zmax+ztick_freq, ztick_freq))\n",
    "    xlabel = axes_kwargs.pop('xlabel', 'X1')\n",
    "    ylabel = axes_kwargs.pop('ylabel', 'X2')\n",
    "    zlabel = axes_kwargs.pop('zlabel', 'X3')\n",
    "    ax.set(xlim=(xmin, xmax), ylim=(ymin, ymax), zlim=(zmin, zmax), \n",
    "           xticks=xticks, yticks=yticks, zticks=zticks, \n",
    "           xlabel=xlabel, ylabel=ylabel, zlabel=zlabel, \n",
    "           **axes_kwargs)\n",
    "    \n",
    "    # remove background grid \n",
    "    for axis in (ax.xaxis, ax.yaxis, ax.zaxis):\n",
    "        axis.pane.set_visible(False)\n",
    "        axis.gridlines.set_visible(False)\n",
    "        \n",
    "    # show z-axis on left instead of right\n",
    "    tmp_planes = ax.zaxis._PLANES \n",
    "    ax.zaxis._PLANES = (tmp_planes[2], tmp_planes[3], \n",
    "                        tmp_planes[0], tmp_planes[1], \n",
    "                        tmp_planes[4], tmp_planes[5])\n",
    "    \n",
    "    # adjust view\n",
    "    elev = view_kwargs.pop('elev', 15)\n",
    "    azim = view_kwargs.pop('azim', -20)\n",
    "    roll = view_kwargs.pop('roll', 0)\n",
    "    ax.view_init(elev=elev, azim=azim, roll=roll, **view_kwargs)\n",
    "    return ax"
   ]
  },
  {
   "cell_type": "code",
   "execution_count": 2,
   "id": "c2833ab5",
   "metadata": {
    "ExecuteTime": {
     "end_time": "2023-09-21T05:04:54.607507Z",
     "start_time": "2023-09-21T05:04:54.591838Z"
    }
   },
   "outputs": [],
   "source": [
    "def draw_vector(xyz, color, headsize=100, ax=None, **kwargs):\n",
    "    \"\"\"\n",
    "    Plot a vector styled as similarly to the MATLAB/CanlabCore version \n",
    "    of this function as possible.\n",
    "    \"\"\"\n",
    "    if ax is None:\n",
    "        ax = plt.gca()\n",
    "    \n",
    "    lw = kwargs.pop('lw', kwargs.pop('linewidth', 3))\n",
    "    # draw vector arrow\n",
    "    ax.quiver(0, 0, 0, *xyz, color=color, lw=lw, arrow_length_ratio=0, **kwargs)\n",
    "    # replace arrowhead with dot\n",
    "    ax.scatter(*xyz, color=color, s=headsize, marker='o')\n",
    "    \n",
    "    # recompute data boundaries from plot\n",
    "    curr_xmin, curr_xmax = ax.get_xlim()\n",
    "    curr_ymin, curr_ymax = ax.get_ylim()\n",
    "    curr_zmin, curr_zmax = ax.get_zlim()\n",
    "    vecs = [[curr_xmin, curr_ymin, curr_zmin], \n",
    "            [curr_xmax, curr_ymax, curr_zmax]]\n",
    "    for obj in ax.collections:\n",
    "        if isinstance(obj, Path3DCollection):\n",
    "            vecs.append(np.array(obj._offsets3d).T[0])\n",
    "            \n",
    "    axes_data = np.vstack(vecs)\n",
    "    \n",
    "    # update axes bounds\n",
    "    xmin, ymin, zmin = axes_data.min(axis=0)\n",
    "    xmax, ymax, zmax = axes_data.max(axis=0)\n",
    "    xtick_freq = np.diff(ax.get_xticks())[0]\n",
    "    ytick_freq = np.diff(ax.get_yticks())[0]\n",
    "    ztick_freq = np.diff(ax.get_zticks())[0]\n",
    "    xticks = np.arange(xmin, xmax + xtick_freq, xtick_freq)\n",
    "    yticks = np.arange(ymin, ymax + ytick_freq, ytick_freq)\n",
    "    zticks = np.arange(zmin, zmax + ztick_freq, ztick_freq)\n",
    "    ax.set(xlim=(xmin, xmax), ylim=(ymin, ymax), zlim=(zmin, zmax),\n",
    "           xticks=xticks, yticks=yticks, zticks=zticks)\n",
    "    \n",
    "    # re-equalize aspect ratio\n",
    "    xyz_ranges = np.ptp(axes_data, axis=0)\n",
    "    ax.set_box_aspect(xyz_ranges)"
   ]
  },
  {
   "cell_type": "markdown",
   "id": "5341c6fe",
   "metadata": {},
   "source": [
    "## Vectors and matrices\n",
    "\n",
    "**Vectors** describe locations in multidimensional space. Each element of a vector describes a dimension in space. If a vector can take on any set of values in $n$-dimensional space, we say that it lies in ${\\mathbb{R}}^n$. By convention, we'll use column vectors in our notation, and row vectors will be indicated by their transpose, $a^{\\prime}$ (or $a^{T}$).\n",
    "\n",
    "$$ \n",
    "\\begin{align*}\n",
    "  \\mathbf{a} = \\begin{bmatrix}\n",
    "    a_{1} \\\\\n",
    "    a_{2} \\\\\n",
    "    a_{3} \\\\\n",
    "  \\end{bmatrix}\n",
    "  \\quad\n",
    "  &\n",
    "  \\quad\n",
    "  \\mathbf{a^T} = \\begin{bmatrix}\n",
    "    a_{1} & a_{2} & a_{3} \\\\\n",
    "  \\end{bmatrix}\n",
    "\\end{align*}\n",
    "$$\n",
    "\n",
    "**Matrices**, in the way we use them here in statistical models, generally describe a set of $m$ observations in $n$-dimensional space. Rows usually represent observations, and columns dimensions. So an $\\left[m \\times n\\right]$ matrix may describe a dataset of $m$ subjects measured on $n$ independent variables. If these measures are predictors in a linear model, these constitute a **design matrix**, $X$ (or sometimes $Z$). A vector transposed times itself is the sum of the element-wise products of the elements. This is the [**dot product**](https://en.wikipedia.org/wiki/Dot_product) or the **scalar product** in linear algebra. It is fundamental to measures of similarity, variance, and other aspects of the linear model equations.\n",
    "\n",
    "$$\n",
    "a \\cdot b = a^T b = b^T a = \\sum_{i=1}^n a_i b_i\n",
    "$$\n",
    "\n",
    "With a vector with three elements, which represents a point in three-dimensional space, this is:\n",
    "\n",
    "$$\n",
    "a \\cdot b = a_x b_x + a_y b_y + a_z b_z\n",
    "$$\n",
    "\n",
    "In matrix notation, this works out to:\n",
    "\n",
    "$$\n",
    "a \\cdot b = a^T b = a^{\\prime} b = \\begin{bmatrix}\n",
    "    a_{1} & a_{2} & a_{3} \\\\\n",
    "  \\end{bmatrix}\n",
    "  \\cdot \n",
    "  \\begin{bmatrix}\n",
    "    b_{1} \\\\\n",
    "    b_{2} \\\\\n",
    "    b_{3} \\\\\n",
    "  \\end{bmatrix}\n",
    "$$"
   ]
  },
  {
   "cell_type": "markdown",
   "id": "37026d69",
   "metadata": {},
   "source": [
    "## Vector similarity and distance\n",
    "\n",
    "The dot product of two vectors $x$ and $y$ is related to both their magnitudes and the similarity of the angle between them. We can think of it as a scale-dependent measure of similarity.\n",
    "\n",
    "$$\n",
    "x \\cdot y = \\| x \\| \\cdot \\| y \\|~\\cos(\\theta_{xy})\n",
    "$$\n",
    "\n",
    "The cosine of the angle between the vectors is called the **cosine similarity,** and it provides a \"scale-free\" measure of similarity:\n",
    "\n",
    "$$\n",
    "\\cos(\\theta_{xy}) = \\frac{x \\cdot y}{\\| x \\| \\cdot \\|y\\|}\n",
    "$$\n",
    "\n",
    "This is a commonly used distance metric, where the distance is related to the similarity of the two vectors in multidimensional space. "
   ]
  },
  {
   "cell_type": "code",
   "execution_count": 3,
   "id": "8694b10e",
   "metadata": {
    "ExecuteTime": {
     "end_time": "2023-09-21T05:04:58.951968Z",
     "start_time": "2023-09-21T05:04:58.842093Z"
    }
   },
   "outputs": [
    {
     "data": {
      "image/png": "[encoded data removed]",
      "text/plain": [
       "<Figure size 640x480 with 1 Axes>"
      ]
     },
     "metadata": {},
     "output_type": "display_data"
    }
   ],
   "source": [
    "x = np.array([1, 2, 3])\n",
    "y = np.array([1, 0, -1])\n",
    "\n",
    "draw_3d_axes(1, ztick_freq=0.5)\n",
    "draw_vector(x, 'b')\n",
    "draw_vector(y, [.2, 1, .2])"
   ]
  },
  {
   "cell_type": "code",
   "execution_count": 4,
   "id": "fa2ffb4f",
   "metadata": {
    "ExecuteTime": {
     "end_time": "2023-09-21T05:05:00.717990Z",
     "start_time": "2023-09-21T05:05:00.558888Z"
    },
    "scrolled": true
   },
   "outputs": [
    {
     "name": "stdout",
     "output_type": "stream",
     "text": [
      "cossim_xy = -0.3779644730092272\n",
      "cossim_xy_alt = -0.3779644730092273\n"
     ]
    }
   ],
   "source": [
    "# define a function that calculates cosine similarity\n",
    "def cos_sim(x, y):\n",
    "    return np.dot(x, y) / (np.linalg.norm(x) * np.linalg.norm(y))\n",
    "\n",
    "\n",
    "# or, alternatively:\n",
    "from scipy.spatial.distance import cosine\n",
    "def cos_sim_alt(x, y):\n",
    "    return 1 - cosine(x, y)\n",
    "\n",
    "\n",
    "# calculate the cosine sim\n",
    "cossim_xy = cos_sim(x, y)\n",
    "\n",
    "# (also calculate it with the alternative function to show they're the same)\n",
    "cossim_xy_alt = cos_sim_alt(x, y)\n",
    "\n",
    "print(f\"{cossim_xy = }\")\n",
    "print(f\"{cossim_xy_alt = }\")"
   ]
  },
  {
   "cell_type": "code",
   "execution_count": 5,
   "id": "62612643",
   "metadata": {
    "ExecuteTime": {
     "end_time": "2023-09-21T05:05:02.573706Z",
     "start_time": "2023-09-21T05:05:02.563166Z"
    }
   },
   "outputs": [
    {
     "name": "stdout",
     "output_type": "stream",
     "text": [
      "theta_hat = 1.958393013450077\n"
     ]
    },
    {
     "data": {
      "text/plain": [
       "112.2076542985965"
      ]
     },
     "execution_count": 5,
     "metadata": {},
     "output_type": "execute_result"
    }
   ],
   "source": [
    "# calculate theta, the angle (in radians)\n",
    "theta_hat = np.arccos(cossim_xy)\n",
    "print(f\"{theta_hat = }\")\n",
    "\n",
    "# convert radians to degrees. radians = (pi/180) * degrees\n",
    "theta_hat * 180 / np.pi  # in degrees"
   ]
  },
  {
   "cell_type": "markdown",
   "id": "e99bdf78",
   "metadata": {},
   "source": [
    "**Euclidean distances** are calculated as the straight-line distances between points. By the Pythagorean Theorem, $c^2 = a^2 + b^2$, so $c = \\sqrt{a^2 + b^2}$. Here, $\\mathbf{a}$ and $\\mathbf{b}$ are dimensions, defined by elements of $\\mathbf{x}$ and $\\mathbf{y}$. So the dot product $\\left[ x - y\\right]^T \\left[x - y \\right]$ is a measure of the squared geometric distance between $\\mathbf{x}$ and $\\mathbf{y}$. The Euclidean distance is the root mean square."
   ]
  },
  {
   "cell_type": "code",
   "execution_count": 6,
   "id": "c647e260",
   "metadata": {
    "ExecuteTime": {
     "end_time": "2023-09-21T05:05:04.174396Z",
     "start_time": "2023-09-21T05:05:04.161366Z"
    }
   },
   "outputs": [
    {
     "name": "stdout",
     "output_type": "stream",
     "text": [
      "eucliddist(x, y) = 4.47213595499958\n",
      "eucliddist2(x, y) = 4.47213595499958\n",
      "eucliddist3(x, y) = 4.47213595499958\n",
      "eucliddist4(x, y) = 4.47213595499958\n"
     ]
    }
   ],
   "source": [
    "def eucliddist(x, y):\n",
    "    return ((x - y).T @ (x - y)) ** 0.5\n",
    "\n",
    "\n",
    "# is the same as\n",
    "def eucliddist2(x, y):\n",
    "    return np.sqrt(np.dot(x - y, x - y))\n",
    "    \n",
    "# and also the same as\n",
    "def eucliddist3(x, y):\n",
    "    return np.sqrt(np.sum((x - y) ** 2))\n",
    "\n",
    "\n",
    "# or, more simply\n",
    "def eucliddist4(x, y):\n",
    "    return np.linalg.norm(x - y)\n",
    "\n",
    "\n",
    "print(f\"{eucliddist(x, y) = }\")\n",
    "print(f\"{eucliddist2(x, y) = }\")\n",
    "print(f\"{eucliddist3(x, y) = }\")\n",
    "print(f\"{eucliddist4(x, y) = }\")"
   ]
  },
  {
   "cell_type": "code",
   "execution_count": 7,
   "id": "40296002",
   "metadata": {
    "ExecuteTime": {
     "end_time": "2023-09-21T05:05:04.736549Z",
     "start_time": "2023-09-21T05:05:04.721838Z"
    }
   },
   "outputs": [
    {
     "name": "stdout",
     "output_type": "stream",
     "text": [
      "d = array([4.47213595])\n"
     ]
    }
   ],
   "source": [
    "# SciPy is a free and open-source Python library used for scientific and \n",
    "# technical computing. It contains modules for optimization, linear \n",
    "# algebra, integration, interpolation, special functions, FFT, signal \n",
    "# and image processing, ODE solvers, and other tasks common in science \n",
    "# and engineering. \n",
    "# Within SciPy, the scipy.spatial.distance module's \"pdist\" function \n",
    "# calculates pairwise distances between any set of points (vectors), \n",
    "# where rows define the points and columns the dimensions of the space.\n",
    "\n",
    "# Note: in the equivalent MATLAB code, `d = pdist([x'; y'], 'Euclidean')`,\n",
    "# `[x'; y']` vertically concatenates (stacks) the two vectors `x` and `y`.\n",
    "# The `numpy.vstack()` function does the same thing in Python.\n",
    "from scipy.spatial.distance import pdist\n",
    "\n",
    "d = pdist(np.vstack((x, y)), 'euclidean') # like in MATLAB, Euclidean distance is the default metric\n",
    "print(f\"{d = }\")"
   ]
  },
  {
   "cell_type": "code",
   "execution_count": 8,
   "id": "c0ba028a",
   "metadata": {
    "ExecuteTime": {
     "end_time": "2023-09-21T05:05:05.617619Z",
     "start_time": "2023-09-21T05:05:05.534137Z"
    }
   },
   "outputs": [
    {
     "data": {
      "image/png": "[encoded data removed]",
      "text/plain": [
       "<Figure size 640x480 with 1 Axes>"
      ]
     },
     "metadata": {},
     "output_type": "display_data"
    }
   ],
   "source": [
    "# Plot two vectors in 3-D space: a in blue, b in green.\n",
    "# Show the distance as a dashed black line.\n",
    "draw_3d_axes(1, ztick_freq=0.5)\n",
    "draw_vector(x, 'b')\n",
    "draw_vector(y, [.2, 1, .2])\n",
    "plt.plot([x[0], y[0]], [x[1], y[1]], [x[2], y[2]], c='k', ls='--', zorder=6)\n",
    "plt.show()"
   ]
  },
  {
   "cell_type": "markdown",
   "id": "0085f804",
   "metadata": {},
   "source": [
    "## Vector magnitude, norm, and sums of squares\n",
    "\n",
    "$x^\\prime x$ (or $x^T x$) is the sum of squared values."
   ]
  },
  {
   "cell_type": "code",
   "execution_count": 9,
   "id": "a0ed80cf",
   "metadata": {
    "ExecuteTime": {
     "end_time": "2023-09-21T05:05:08.966848Z",
     "start_time": "2023-09-21T05:05:08.954698Z"
    },
    "scrolled": true
   },
   "outputs": [
    {
     "name": "stdout",
     "output_type": "stream",
     "text": [
      "x = array([[1],\n",
      "       [2],\n",
      "       [3]])\n",
      "x.shape = (3, 1)\n",
      "14\n",
      "1**2 + 2**2 + 3**2 = 14\n"
     ]
    }
   ],
   "source": [
    "x = np.array([[1, 2, 3]]).T  # or, x = np.array([[1], [2], [3]])\n",
    "print(f\"{x = }\")\n",
    "print(f\"{x.shape = }\")\n",
    "\n",
    "print((x.T @ x).item())\n",
    "print(f\"{1**2 + 2**2 + 3**2 = }\")"
   ]
  },
  {
   "cell_type": "markdown",
   "id": "b0d28451",
   "metadata": {
    "ExecuteTime": {
     "end_time": "2023-09-20T21:16:42.724588Z",
     "start_time": "2023-09-20T21:16:42.714383Z"
    }
   },
   "source": [
    "In geometric terms, the square root of $x^\\prime x$ (a.k.a. $x^T x$), or $\\sqrt{\\| x \\|}$ , is the distance from zero. This is the vector's **magnitude**, also known as it's **2-norm** or  **L2-norm,** or **Euclidean norm.** A **unit vector** is a vector with a magnitude of 1, often used to represent a direction without regard to magnitude.The dot product $x^\\prime x$ is a measure of the squared geometric distance from 0. The Euclidean distance from zero is its square root."
   ]
  },
  {
   "cell_type": "code",
   "execution_count": 10,
   "id": "2bcdd1e1",
   "metadata": {
    "ExecuteTime": {
     "end_time": "2023-09-21T05:05:11.443792Z",
     "start_time": "2023-09-21T05:05:11.358439Z"
    }
   },
   "outputs": [
    {
     "data": {
      "image/png": "[encoded data removed]",
      "text/plain": [
       "<Figure size 640x480 with 1 Axes>"
      ]
     },
     "metadata": {},
     "output_type": "display_data"
    }
   ],
   "source": [
    "ax = draw_3d_axes(4, xtick_freq=2, ytick_freq=2)\n",
    "\n",
    "draw_vector(x, 'b')"
   ]
  },
  {
   "cell_type": "markdown",
   "id": "28c94b55",
   "metadata": {
    "ExecuteTime": {
     "end_time": "2023-09-20T21:20:36.998209Z",
     "start_time": "2023-09-20T21:20:36.986827Z"
    }
   },
   "source": [
    "In a linear model, the 3 dimensions here can represent observations or model predictors, depending on the equation in question. If zero is a meaningful value, then $x^\\prime x$ takes on particular meaning. For example, if $x$ is an $\\left[m \\times 1\\right]$ vector of residuals from $m$ observations, $e$, from a linear model, then $e^\\prime e$ is the  **sums of squared errors (SSE).** So the SSE is (1) the norm of the error vector and (2) the distance of the error vector from 0 in a space defined my $m$ independent observations. The **mean squared error** (MSE) is the average squared error per observation (element of $e$), or $\\frac{x^\\prime x}{m}$"
   ]
  },
  {
   "cell_type": "markdown",
   "id": "992a415b",
   "metadata": {},
   "source": [
    "## Covariance and correlation\n",
    "\n",
    "Often, the mean of a vector is uninteresting, and we want to understand how observations vary around the mean. This is generally true in statistics, where we are usually interested in analyzing variation among observations. **Variance** is a measure of deviations around a sample mean. It is defined as the mean squared deviation from the sample mean, divided by the **degrees of freedom** (df). The **df** is the number of independent dimensions along which scores can vary. Here this is the number of independent observations - 1 (as we have estimated the mean). Here we use $m - 1$ instead of $m$ to account for the loss of a degree of freedom when estimating the sample mean:\n",
    "\n",
    "$$\n",
    "\\mathrm{var}(x) = \\frac{(x - \\bar{x} )^T (x - \\bar{x})}{m - 1} = \\frac{\\| x \\|^2}{m - 1}\n",
    "$$ \n",
    "\n",
    "The standard deviation is the square root of variance. If $e$ is a vector of errors from a model:\n",
    "\n",
    "$$\n",
    "\\mathrm{var}(e) = \\sigma^2, \\quad \\mathrm{std}(e) = \\sigma\n",
    "$$\n",
    "\n",
    "Covariance is a measure of similarity of shared deviations from a mean. The covariance of two $m$-length vectors $x$ and $y$ is:\n",
    "\n",
    "$$\n",
    "\\mathrm{cov}(x, y) = \\frac{(x - \\bar{x})^T (y - \\bar{y})}{m - 1}\n",
    "$$\n",
    "\n",
    "Covariance is often defined in terms of the expected values of **random variables,** which do not have discrete values but instead are:\n",
    "\n",
    "$$\n",
    "\\begin{align*}\n",
    "  \\mathrm{Cov}(X, Y) &= E\\left[(X - E \\left[ X \\right])(Y - E\\left[ Y \\right])\\right] \\\\\n",
    "  \\mathrm{Cov}(X, Y) &= E\\left[XY\\right]-E\\left[X\\right]E\\left[Y\\right]\n",
    "\\end{align*}\n",
    "$$"
   ]
  },
  {
   "cell_type": "code",
   "execution_count": 11,
   "id": "a76dc1f7",
   "metadata": {
    "ExecuteTime": {
     "end_time": "2023-09-21T05:05:15.881763Z",
     "start_time": "2023-09-21T05:05:15.876029Z"
    }
   },
   "outputs": [
    {
     "name": "stdout",
     "output_type": "stream",
     "text": [
      "cv = array([[0.03781221, 0.02337308],\n",
      "       [0.02337308, 0.12876287]])\n",
      "cv2 = 0.023373083984198725\n"
     ]
    }
   ],
   "source": [
    "# Generate instances of two normally distributed random variables a and b,\n",
    "# with m = 10 observations each.\n",
    "np.random.seed(0)    # Seed the random state for consistent output\n",
    "a = np.random.rand(10)\n",
    "b = np.random.rand(10)\n",
    "\n",
    "cv = np.cov(a, b)\n",
    "print(f\"{cv = }\")\n",
    "\n",
    "\n",
    "cv2 = (a - a.mean()).T @ (b - b.mean()) / (len(a) - 1)\n",
    "print(f\"{cv2 = }\")\n",
    "\n",
    "# Note: `cv` is the covariance *matrix*; `cv2` is specifically the \n",
    "# covariance between `a` & `b`, which is the upper right & lower left \n",
    "# elements of the matrix"
   ]
  },
  {
   "cell_type": "markdown",
   "id": "0f4b703b",
   "metadata": {
    "ExecuteTime": {
     "end_time": "2023-09-20T22:01:41.992685Z",
     "start_time": "2023-09-20T22:01:41.977583Z"
    }
   },
   "source": [
    "Like the dot product, the units of covariance depend on the **scale** of the variables. For example, we can measure reaction times in seconds or minutes, and changing the units affects the scale of the  response (and thus the mean, variance, and covariance), but not the similarity in reaction times across two tasks. **Correlation** additionally scales each variable by its variance. For a $z$-scored variable standardized to mean 0 and standard deviation 1:\n",
    "\n",
    "$$\n",
    "z_x = \\frac{x - \\bar{x}}{\\mathrm{std}(x)}, \\quad z_y = \\frac{y - \\bar{y}}{\\mathrm{std}(y)}\n",
    "$$\n",
    "\n",
    "Pearson's correlation ($r$) is the covariance of the standardized variables:"
   ]
  },
  {
   "cell_type": "code",
   "execution_count": 12,
   "id": "ef31865e",
   "metadata": {
    "ExecuteTime": {
     "end_time": "2023-09-21T05:05:18.674271Z",
     "start_time": "2023-09-21T05:05:18.406208Z"
    },
    "scrolled": true
   },
   "outputs": [
    {
     "name": "stdout",
     "output_type": "stream",
     "text": [
      "[[1.         0.33496905]\n",
      " [0.33496905 1.        ]] \n",
      "\n",
      "[[1.         0.33496905]\n",
      " [0.33496905 1.        ]] \n",
      "\n",
      "PearsonRResult(statistic=0.3349690490522055, pvalue=0.3440851015397072) \n",
      "\n",
      "r = 0.3349690490522054\n"
     ]
    }
   ],
   "source": [
    "from scipy.stats import zscore, pearsonr\n",
    "\n",
    "# Note: calling `scipy.stats.zscore` with `ddof=0` (the default) computes\n",
    "# the z-score based on the *population* standard deviation. Passing \n",
    "# `ddof=1` computes it based on the sample standard deviation, which is \n",
    "# the default behavior of MATLAB's `zscore` function \n",
    "print(np.cov(zscore(a, ddof=1), zscore(b, ddof=1)), '\\n')\n",
    "\n",
    "# or equivalently:\n",
    "print(np.corrcoef(a, b), '\\n')\n",
    "\n",
    "# or, more conveniently for only two sets of observations:\n",
    "print(pearsonr(a, b), '\\n')\n",
    "\n",
    "# and finally, as shown in the MATLAB version:\n",
    "r = cv[0, 1] / np.prod(np.diag(cv) ** 0.5)\n",
    "print(f\"{r = }\")"
   ]
  },
  {
   "cell_type": "markdown",
   "id": "92f784ab",
   "metadata": {},
   "source": [
    "## Orthogonality, correlation, and independence\n",
    "\n",
    "Orthogonality refers to the concept of two vectors being perpendicular to each other in a given vector space. Mathematically, two vectors $\\mathbf{a}$ and $\\mathbf{b}$ are orthogonal if and only if their dot product is zero. This means that they are at *right angles* to one another. \n",
    "\n",
    "Below, we'll plot two vectors in 3-D space: $\\mathbf{a}$ in blue, $\\mathbf{b}$ in green."
   ]
  },
  {
   "cell_type": "code",
   "execution_count": 13,
   "id": "806f3573",
   "metadata": {
    "ExecuteTime": {
     "end_time": "2023-09-21T05:05:35.721297Z",
     "start_time": "2023-09-21T05:05:35.637285Z"
    },
    "scrolled": false
   },
   "outputs": [
    {
     "data": {
      "image/png": "[encoded data removed]",
      "text/plain": [
       "<Figure size 640x480 with 1 Axes>"
      ]
     },
     "metadata": {},
     "output_type": "display_data"
    }
   ],
   "source": [
    "a = np.array([1, 0, 0])\n",
    "b = np.array([0, 0, 1])\n",
    "\n",
    "ax = draw_3d_axes(0.5)\n",
    "draw_vector(a, 'b')\n",
    "draw_vector(b, [.2, 1, .2])\n",
    "ax.view_init(9.29, -88.59)"
   ]
  },
  {
   "cell_type": "markdown",
   "id": "9db87fe5",
   "metadata": {},
   "source": [
    "Does this mean that they are uncorrelated?\n",
    "\n",
    "Does it mean that they are linearly independent?\n",
    "\n",
    "These are different concepts:\n",
    "- $X$ and $Y$ are linearly independent iff there is no constant  $a$ such that $aX -  Y = 0$. Unless vectors are perfectly aligned so that $\\vert\\mathrm{cos}(\\theta)\\vert=1$, vectors are linearly independent. \n",
    "- $X$ and $Y$ are orthogonal iff $X^\\prime Y = 0$.  All orthogonal vectors are independent, so orthogonality is a special case of independence.\n",
    "- $X$ and $Y$ are uncorrelated iff $(X - \\bar{X})^\\prime(Y - \\bar{Y}) = 0$. Vectors can be orthogonal but not uncorrelated. If both varables are mean-zero and uncorrelated, they must be orthogonal. But if they are not mean-zero, they may be uncorrelated but nonorthogonal. \n",
    "\n",
    "Consider the vectors $\\vec{a}$ and $\\vec{b}$ above."
   ]
  },
  {
   "cell_type": "code",
   "execution_count": 14,
   "id": "280eeed2",
   "metadata": {
    "ExecuteTime": {
     "end_time": "2023-09-21T05:05:39.196110Z",
     "start_time": "2023-09-21T05:05:39.185267Z"
    }
   },
   "outputs": [
    {
     "name": "stdout",
     "output_type": "stream",
     "text": [
      "dotproduct = 0\n",
      "r = -0.5000000000000001\n"
     ]
    }
   ],
   "source": [
    "# Consider orthogonality\n",
    "dotproduct = np.dot(a, b)\n",
    "print(f\"{dotproduct = }\")\n",
    "\n",
    "# Consider the correlation\n",
    "r = pearsonr(a, b)[0]    # `pearsonr` returns r- & p-values; `[0]` gets just r\n",
    "print(f\"{r = }\")"
   ]
  },
  {
   "cell_type": "code",
   "execution_count": 15,
   "id": "c3570601",
   "metadata": {
    "ExecuteTime": {
     "end_time": "2023-09-21T05:05:40.993244Z",
     "start_time": "2023-09-21T05:05:40.902093Z"
    }
   },
   "outputs": [
    {
     "data": {
      "image/png": "[encoded data removed]",
      "text/plain": [
       "<Figure size 640x480 with 1 Axes>"
      ]
     },
     "metadata": {},
     "output_type": "display_data"
    }
   ],
   "source": [
    "ax = draw_3d_axes(0.5)\n",
    "draw_vector(a, 'b')\n",
    "draw_vector(b, [.2, 1, .2])\n",
    "draw_vector(a - a.mean(), 'b', linestyle='--')\n",
    "draw_vector(b - b.mean(), [.2, 1, .2], linestyle='--')\n",
    "ax.view_init(1.51, -89)\n",
    "ax.set_title('Mean-centered vectors (dashed) not orthogonal')\n",
    "plt.show()"
   ]
  },
  {
   "cell_type": "markdown",
   "id": "7dd9cbf9",
   "metadata": {},
   "source": [
    "Here is a useful Venn diagram of the relationships from this paper:\n",
    "\n",
    "![](https://d3i71xaburhd42.cloudfront.net/177dc3b719fdb7b2c01d6c341e0bd58a09a47a83/2-Figure1-1.png)"
   ]
  },
  {
   "cell_type": "markdown",
   "id": "e2c9d14e",
   "metadata": {},
   "source": [
    "## Projection\n",
    "\n",
    "The projection of vector $\\vec{a}$ onto vector $\\vec{b}$ is the length of vector $\\vec{a}$ along the direction defined by vector $\\vec{b}$. We can think of it like the \"shadow\" of $\\vec{a}$ in the direction defined by $\\vec{b}$. [This link](https://www.cuemath.com/algebra/dot-product/) or [this one](https://en.wikipedia.org/wiki/Dot_product) has more.\n",
    "\n",
    "$$\n",
    "proj_b(a) = \\mathrm{cos}(\\theta_{ab})~\\mathrm{norm}(a) = \\frac{a \\cdot b}{\\| b \\|}\n",
    "$$\n",
    "\n",
    "This gives the scalar projection, a magnitude, to be multiplied by the unit vector in the direction of $\\vec{b}$, $\\frac{b}{\\| b \\|}$ \n",
    "\n",
    "In statistical modeling, $\\vec{b}$ will be a predictor (or a set of them defining a model subspace), and $\\vec{a}$ will be a data vector that we are projecting onto the model subspace."
   ]
  },
  {
   "cell_type": "code",
   "execution_count": 16,
   "id": "3b74a4d8",
   "metadata": {
    "ExecuteTime": {
     "end_time": "2023-09-21T05:05:44.032820Z",
     "start_time": "2023-09-21T05:05:43.938622Z"
    }
   },
   "outputs": [
    {
     "data": {
      "image/png": "[encoded data removed]",
      "text/plain": [
       "<Figure size 640x480 with 1 Axes>"
      ]
     },
     "metadata": {},
     "output_type": "display_data"
    }
   ],
   "source": [
    "a = np.array([1, 0, 1])\n",
    "b = np.array([2, 0, 0])\n",
    "\n",
    "a_onto_b = (np.dot(a, b) / np.linalg.norm(b)) * (b / np.linalg.norm(b))\n",
    "\n",
    "ax = draw_3d_axes(0.5)\n",
    "draw_vector(a, 'b')\n",
    "draw_vector(b, [.2, 1, .2])\n",
    "\n",
    "# note: these two lines are redundant with the two above, but they exist \n",
    "# in the MATLAB version so they're also included here\n",
    "draw_vector(a, 'b', linestyle='--')\n",
    "draw_vector(b, [.2, 1, .2], linestyle='--')\n",
    "\n",
    "draw_vector(a_onto_b, [.7, .7, 1])\n",
    "ax.view_init(1.51, -89)\n",
    "ax.set_title('Light blue: Projection of a onto b')\n",
    "ax.set_zlabel(ax.get_zlabel(), labelpad=-5)\n",
    "plt.show()"
   ]
  },
  {
   "cell_type": "markdown",
   "id": "830831bd",
   "metadata": {},
   "source": [
    "# Extension to matrices\n",
    "\n",
    "## Linear combinations\n",
    "\n",
    "A linear combination is  an expression constructed from a set of terms (variables) by multiplying each term by a scalar (positive or negative) and adding the results. In the context of matrices, it involves multiplying vectors by scalars and adding or subtracting the resulting products.\n",
    "\n",
    "$$\n",
    "w = a_1 v_1 + a_2 v_2 + \\ldots + a_n v_n\n",
    "$$\n",
    "\n",
    "The coefficients $\\left[a_1~a_2~a_3\\right]$ define the linear combination.\n",
    "\n",
    "The set of all possible linear combinations of $p$ independent variables includes all points within a $p$-dimensional **subspace**. In 2-D, this would be a plane, or in 3-D a volume.\n",
    "\n",
    "$$\n",
    "\\begin{align*}\n",
    "  v_1 &= \\left[1, 2\\right]^T \\\\\n",
    "  v_2 &= \\left[3, 4\\right]^T \\\\\n",
    "  w &= 2v_1 - 3v_2 = 2\\left[1, 2\\right]^T - 3\\left[3, 4\\right]^T = \\left[-7, -10\\right]^T\n",
    "\\end{align*}\n",
    "$$\n",
    "\n",
    "## Matrix variance/covariance\n",
    "\n",
    "If $X$ has multiple columns, $X^\\prime X$ is a **square matrix** with the sum of squares on the diagonal, and dot products of its columns on the off-diagonal. This is the *normal matrix* or [Gram matrix](https://en.wikipedia.org/wiki/Gram_matrix)."
   ]
  },
  {
   "cell_type": "code",
   "execution_count": 17,
   "id": "f61d1bf5",
   "metadata": {
    "ExecuteTime": {
     "end_time": "2023-09-21T05:05:49.512574Z",
     "start_time": "2023-09-21T05:05:49.498424Z"
    }
   },
   "outputs": [
    {
     "data": {
      "text/plain": [
       "array([[17.00671286, 13.91239596, 10.03158447, 13.48354696],\n",
       "       [13.91239596, 16.98596379,  9.87812844, 13.40549406],\n",
       "       [10.03158447,  9.87812844, 12.8081555 , 10.61002285],\n",
       "       [13.48354696, 13.40549406, 10.61002285, 18.98150792]])"
      ]
     },
     "execution_count": 17,
     "metadata": {},
     "output_type": "execute_result"
    }
   ],
   "source": [
    "np.random.seed(1)    # Seed the random state for consistent output\n",
    "X = np.random.rand(50, 4)\n",
    "np.dot(X.T, X)    # or, X.T @ X"
   ]
  },
  {
   "cell_type": "markdown",
   "id": "cccef34c",
   "metadata": {},
   "source": [
    "It is related to the variance/covariance matrix of the columns of $X$.  As above, if columns are mean-zero, $X^\\prime X$ is the covariance matrix * df.  The df is the number of independent dimensions along which scores can vary, which is the independent observations - 1 (as we have estimated the mean). \n",
    "\n",
    "Thus, if $X$ columns are mean-centered, $X^\\prime X = \\mathrm{cov}(X) * (m - 1)$"
   ]
  },
  {
   "cell_type": "code",
   "execution_count": 18,
   "id": "78097d75",
   "metadata": {
    "ExecuteTime": {
     "end_time": "2023-09-21T05:05:50.437528Z",
     "start_time": "2023-09-21T05:05:50.423128Z"
    }
   },
   "outputs": [
    {
     "name": "stdout",
     "output_type": "stream",
     "text": [
      "[[ 0.09406389  0.02628998  0.00142318  0.00266454]\n",
      " [ 0.02628998  0.08430674 -0.00542458 -0.00390935]\n",
      " [ 0.00142318 -0.00542458  0.09803052 -0.00243922]\n",
      " [ 0.00266454 -0.00390935 -0.00243922  0.09386722]] \n",
      "\n",
      "[[ 0.09406389  0.02628998  0.00142318  0.00266454]\n",
      " [ 0.02628998  0.08430674 -0.00542458 -0.00390935]\n",
      " [ 0.00142318 -0.00542458  0.09803052 -0.00243922]\n",
      " [ 0.00266454 -0.00390935 -0.00243922  0.09386722]]\n"
     ]
    }
   ],
   "source": [
    "print(((X - X.mean(axis=0)).T @ (X - X.mean(axis=0))) / (X.shape[0] - 1), '\\n')\n",
    "\n",
    "print(np.cov(X, rowvar=False))  # compare: same"
   ]
  },
  {
   "cell_type": "markdown",
   "id": "7eef2cc2",
   "metadata": {},
   "source": [
    "## Independence of columns\n",
    "\n",
    "The number of independent column vectors defines the dimensionality of the space that a matrix spans. This is called the **rank** of the matrix. If $X$ is a design matrix, this is the number of independent predictors (i.e., regressors).\n",
    "\n",
    "If the values in the rows fill all the dimensions, the matrix will be **full rank**."
   ]
  },
  {
   "cell_type": "code",
   "execution_count": 19,
   "id": "ab5969be",
   "metadata": {
    "ExecuteTime": {
     "end_time": "2023-09-21T05:05:51.709178Z",
     "start_time": "2023-09-21T05:05:51.695362Z"
    }
   },
   "outputs": [
    {
     "data": {
      "text/plain": [
       "4"
      ]
     },
     "execution_count": 19,
     "metadata": {},
     "output_type": "execute_result"
    }
   ],
   "source": [
    "np.linalg.matrix_rank(X)"
   ]
  },
  {
   "cell_type": "markdown",
   "id": "228b1c2c",
   "metadata": {},
   "source": [
    "Only if a matrix is **full-rank** is its normal matrix invertible. This inversion is critical to solving the normal equation and estimating regression coefficients $\\hat{\\beta}$. If the matrix is not full rank, there will be no unique solution for $\\hat{\\beta}$, but rather an infinite family of solutions. An intuition for this is that two perfectly redundant predictors should each explain the data ($y$) equally well, so it's unclear which should be assigned a higher $\\hat{\\beta}$."
   ]
  },
  {
   "cell_type": "code",
   "execution_count": 20,
   "id": "60e6bba2",
   "metadata": {
    "ExecuteTime": {
     "end_time": "2023-09-21T05:05:52.485483Z",
     "start_time": "2023-09-21T05:05:52.464915Z"
    }
   },
   "outputs": [
    {
     "data": {
      "text/plain": [
       "array([[ 0.21426526, -0.11286282, -0.03858485, -0.05092786],\n",
       "       [-0.11286282,  0.208894  , -0.03149835, -0.04975041],\n",
       "       [-0.03858485, -0.03149835,  0.17032031, -0.04554911],\n",
       "       [-0.05092786, -0.04975041, -0.04554911,  0.14945568]])"
      ]
     },
     "execution_count": 20,
     "metadata": {},
     "output_type": "execute_result"
    }
   ],
   "source": [
    "np.linalg.inv(X.T @ X)"
   ]
  },
  {
   "cell_type": "markdown",
   "id": "eb7fabb4",
   "metadata": {},
   "source": [
    "Consider $Y$, which is a copy of $X$ with an additional column. The additional column is a perfect **linear combination** of the other columns, so it \"lives within\" the existing 4-dimensional space and does not add a new dimension. "
   ]
  },
  {
   "cell_type": "code",
   "execution_count": 21,
   "id": "6f9f8113",
   "metadata": {
    "ExecuteTime": {
     "end_time": "2023-09-21T05:05:54.980679Z",
     "start_time": "2023-09-21T05:05:54.964658Z"
    }
   },
   "outputs": [
    {
     "name": "stdout",
     "output_type": "stream",
     "text": [
      "rank of Y: 4\n"
     ]
    },
    {
     "data": {
      "text/plain": [
       "array([[ 3.74526007e+13,  3.74526007e+13, -2.99620805e+13,\n",
       "        -2.27546536e-02, -7.49052013e+13],\n",
       "       [ 3.74526007e+13,  3.74526007e+13, -2.99620805e+13,\n",
       "        -2.15772081e-02, -7.49052013e+13],\n",
       "       [-2.99620805e+13, -2.99620805e+13,  2.39696644e+13,\n",
       "        -6.80876726e-02,  5.99241611e+13],\n",
       "       [-3.10415303e-02, -2.98640848e-02, -6.14581712e-02,\n",
       "         1.49455677e-01, -3.97726567e-02],\n",
       "       [-7.49052013e+13, -7.49052013e+13,  5.99241611e+13,\n",
       "        -5.63464102e-02,  1.49810403e+14]])"
      ]
     },
     "execution_count": 21,
     "metadata": {},
     "output_type": "execute_result"
    }
   ],
   "source": [
    "Y = np.hstack((X, np.dot(X, [.5, .5, -.4, 0])[..., np.newaxis]))\n",
    "# The new column of Y is a linear combination of other variables\n",
    "print(f\"rank of Y: {np.linalg.matrix_rank(Y)}\")\n",
    "\n",
    "# NOTE: this function doesn't warn about rank deficient matrices like \n",
    "# MATLAB's version does, but the results will be inaccurate. \n",
    "# `numpy.linalg.matrix_rank()` should be checked instead.\n",
    "np.linalg.inv(Y.T @ Y)"
   ]
  },
  {
   "cell_type": "markdown",
   "id": "e04123af",
   "metadata": {},
   "source": [
    "## Basis sets\n",
    "\n",
    "In linear algebra, a basis set is a set of vectors that span a vector space $V$. This defines a coordinate system for vectors in the space. A basis set consists of $p$ vectors that satisfies two main properties:\n",
    "\n",
    "1.  The vectors are linearly independent, meaning that no vector is a linear combination of the others.\n",
    "2. The vectors span the space $V$, meaning that there is a linear combination of the basis vectors that can reach any point in the space $V$.\n",
    "\n",
    "For example,  \n",
    "\n",
    "$$\n",
    "e_1 = \\begin{bmatrix}\n",
    "  1 \\\\\n",
    "  0 \\\\\n",
    "  0 \\\\\n",
    "\\end{bmatrix},\n",
    "\\quad\n",
    "e_2 = \\begin{bmatrix}\n",
    "  0 \\\\\n",
    "  1 \\\\\n",
    "  0 \\\\\n",
    "\\end{bmatrix},\n",
    "\\quad\n",
    "e_3 = \\begin{bmatrix}\n",
    "  0 \\\\\n",
    "  0 \\\\\n",
    "  1 \\\\\n",
    "\\end{bmatrix}\n",
    "$$ \n",
    "\n",
    "is the standard basis for ${\\mathbb{R}}^3$, 3-D geometric space. These can be collected into a matrix:\n",
    "\n",
    "$$\n",
    "E = \\begin{pmatrix} \n",
    "  1 & 0 & 0 \\\\\n",
    "  0 & 1 & 0 \\\\\n",
    "  0 & 0 & 1 \\\\\n",
    "\\end{pmatrix}\n",
    "$$\n",
    "\n",
    "If the basis vectors are orthogonal and have a norm = 1, this is an **orthonormal** basis set, and the matrix $E$ is an  **orthogonal matrix.** Here, $E$ is the **identity matrix**, the simplest kind of orthogonal matrix.\n",
    "\n",
    "In the GLM, columns of the design matrix ($X$) are vectors that provide a basis set. These are usually not orthogonal, though they can be if the design matrix reflects an experimental design with orthogonal factors. The data vector is projected onto the basis set using an optimal linear combination $\\hat{\\beta}$ to produce fitted values."
   ]
  },
  {
   "cell_type": "markdown",
   "id": "98895d1a",
   "metadata": {},
   "source": [
    "## Rotations\n",
    "\n",
    "Rotation matrices are [square matrices](https://en.wikipedia.org/wiki/Square_matrix), with [real](https://en.wikipedia.org/wiki/Real_number) entries. More specifically, they can be characterized as [orthogonal matrices](https://en.wikipedia.org/wiki/Orthogonal_matrix) with [determinant](https://en.wikipedia.org/wiki/Determinant) 1. (The determinant can be thought of as related to the volume described by the columns of a matrix. The determinant of the identity matrix is 1). The columns of $R$ form a basis set for the space in which the rotation occurs. Orthogonal matrices representing rotations (as opposed to reflections) have a determinant of +1. If the determinant is -1, it represents a reflection. A few properties of rotation matrices include:\n",
    "- They are square matrices.\n",
    "- They are orthogonal matrices, meaning their rows and columns are orthonormal unit vectors. Consequently, the inverse of a rotation matrix is simply its transpose ($R^{-1} = R^T$). \n",
    "- Their determinant is 1 (or -1 if they include reflection). \n",
    "\n",
    "$$\n",
    "R = \\begin{pmatrix}\n",
    "  \\mathrm{cos}(\\theta) & -\\mathrm{sin}(\\theta) & 0 \\\\\n",
    "  \\mathrm{sin}(\\theta) & \\mathrm{cos}(\\theta) & 0 \\\\\n",
    "  0 & 0 & 1\n",
    "\\end{pmatrix}\n",
    "$$\n",
    "\n",
    "If the 3 dimensions of  $R$ are $x$, $y$, and $z$ spatial dimensions, respectively, this matrix represents a counterclockwise rotation of $\\theta$ radians around the $z$-axis. The matrix can be extended for other axes and more dimensions. Zeros on the off-diagonals \n",
    "\n",
    "An **orthogonal rotation** is a linear transformation that preserves the lengths of vectors and the angles between them. The transformation is carried out through multiplication by an **orthogonal matrix**.\n",
    "\n",
    "## Projections\n",
    "\n",
    "A [**projection matrix**](https://en.wikipedia.org/wiki/Projection_matrix) is a square matrix that implements a projection onto a subspace spanned by the columns of $P$.  This generalizes the idea of a projection onto a 1-D line above. Unlike rotation matrices, projection matrices can rescale the data to which they are applied. Projection matrices: \n",
    "- Do not necessarily preserve the length of vectors. \n",
    "- Are idempotent, which means applying the matrix multiple times has the same effect as applying it once: $P^2 = P$.\n",
    "- Their determinant can be 0, in the case where they project onto a subspace of lower dimensionality than the original space. \n",
    "\n",
    "A symmetric projection matrix is an **orthogonal projection matrix ($P$),** sometimes also called the **influence matrix** or **hat matrix ($H$).** This is also the matrix that produces the model fits in the GLM when applied to data.\n",
    "\n",
    "An **orthogonal projection matrix** is a special kind of projection matrix used to project vectors orthogonally onto a subspace. In this context, \"orthogonally\" means that the vectors are projected onto the closest point in the subspace, resulting in the residual vector being perpendicular to the subspace.\n",
    "\n",
    "An orthogonal projection matrix $P$ satisfies two main properties:\n",
    "1. It is symmetric: $P = P^T$\n",
    "2. It is idempotent, which means applying the matrix multiple times has the same effect as applying it once: $P^2 = P$\n",
    "\n",
    "The formula for constructing an **orthogonal projection matrix** onto the column space of a given matrix $X$ (with linearly independent columns) is:\n",
    "\n",
    "$$\n",
    "P = X(X^\\prime X)^{-1} X^\\prime\n",
    "$$\n",
    "\n",
    "We can think of this as being broken down into the outer product $XX^\\prime$, and the inner product $(X^\\prime X)^{-1}$ . If $X$ were an orthonormal basis set, $(X^\\prime X)^{-1}$ would be the identity matrix, and it would not change the product relationship."
   ]
  },
  {
   "cell_type": "code",
   "execution_count": 22,
   "id": "f5aa98a9",
   "metadata": {
    "ExecuteTime": {
     "end_time": "2023-09-21T05:06:01.064612Z",
     "start_time": "2023-09-21T05:06:01.055914Z"
    }
   },
   "outputs": [
    {
     "name": "stdout",
     "output_type": "stream",
     "text": [
      "X = array([[1, 0],\n",
      "       [1, 0],\n",
      "       [1, 0],\n",
      "       [0, 1],\n",
      "       [0, 1],\n",
      "       [0, 1]])\n",
      "\n",
      "y = array([3, 6, 4, 2, 5, 1])\n",
      "\n",
      "Normal matrix\n",
      "[[3 0]\n",
      " [0 3]] \n",
      "\n",
      "Inverse normal matrix\n",
      "[[0.33333333 0.        ]\n",
      " [0.         0.33333333]] \n",
      "\n",
      "Projection matrix\n",
      "[[0.33333333 0.33333333 0.33333333 0.         0.         0.        ]\n",
      " [0.33333333 0.33333333 0.33333333 0.         0.         0.        ]\n",
      " [0.33333333 0.33333333 0.33333333 0.         0.         0.        ]\n",
      " [0.         0.         0.         0.33333333 0.33333333 0.33333333]\n",
      " [0.         0.         0.         0.33333333 0.33333333 0.33333333]\n",
      " [0.         0.         0.         0.33333333 0.33333333 0.33333333]] \n",
      "\n",
      "Three ways of calculating the scalar projections for each column\n",
      "np.linalg.pinv(X) @ y = array([4.33333333, 2.66666667])\n",
      "np.linalg.inv((X.T @ X)) @ X.T @ y = array([4.33333333, 2.66666667])\n",
      "\n",
      "Because predictors are orthogonal, we can apply the 1-D projection separately and get the same thing:\n",
      "y_onto_x1 = 4.333333333333334\n",
      "y_onto_x2 = 2.666666666666667\n",
      "y_onto_x = array([4.33333333, 2.66666667])\n",
      "\n",
      "This is the same as the vector of sample means:\n",
      "[y[X[:, 0] == 1].mean(), y[X[:, 1] == 1].mean()] = [4.333333333333333, 2.6666666666666665]\n",
      "\n",
      "The resulting projection:\n",
      "y_hat = array([4.33333333, 4.33333333, 4.33333333, 2.66666667, 2.66666667,\n",
      "       2.66666667])\n"
     ]
    }
   ],
   "source": [
    "# Consider orthogonal predictors\n",
    "X = np.array([[1, 1, 1, 0, 0, 0], [0, 0, 0, 1, 1, 1]]).T\n",
    "print(f'{X = }\\n')\n",
    "\n",
    "# generate an arbitrary data vector\n",
    "y = np.array([3, 6, 4, 2, 5, 1])\n",
    "print(f'{y = }\\n')\n",
    "\n",
    "print('Normal matrix')\n",
    "print(X.T @ X, '\\n')  # normal matrix. off diag are 0 because ortho.\n",
    "\n",
    "print('Inverse normal matrix')\n",
    "print(np.linalg.inv(X.T @ X), '\\n')\n",
    "\n",
    "print('Projection matrix')\n",
    "H = X @ np.linalg.inv(X.T @ X) @ X.T  # Hat matrix, projection matrix\n",
    "print(H, '\\n')\n",
    "\n",
    "print('Three ways of calculating the scalar projections for each column')\n",
    "# Note: there are only two here, but the same is true in the MATLAB version\n",
    "print(f'{np.linalg.pinv(X) @ y = }')\n",
    "print(f'{np.linalg.inv((X.T @ X)) @ X.T @ y = }\\n')\n",
    "\n",
    "print('Because predictors are orthogonal, we can apply the 1-D projection separately and get the same thing:')\n",
    "y_onto_x1 = y @ X[:, 0] / np.linalg.norm(X[:, 0]) ** 2\n",
    "print(f'{y_onto_x1 = }')\n",
    "y_onto_x2 = y @ X[:, 1] / np.linalg.norm(X[:, 1]) ** 2\n",
    "print(f'{y_onto_x2 = }')\n",
    "y_onto_x = y @ X / np.linalg.norm(X, axis=0) ** 2\n",
    "print(f'{y_onto_x = }\\n')\n",
    "\n",
    "print('This is the same as the vector of sample means:')\n",
    "print(f'{[y[X[:, 0] == 1].mean(), y[X[:, 1] == 1].mean()] = }\\n')\n",
    "\n",
    "print('The resulting projection:')\n",
    "y_hat = H @ y\n",
    "print(f'{y_hat = }')"
   ]
  },
  {
   "cell_type": "markdown",
   "id": "98484bda",
   "metadata": {
    "ExecuteTime": {
     "end_time": "2023-09-21T04:40:13.366237Z",
     "start_time": "2023-09-21T04:40:13.336869Z"
    }
   },
   "source": [
    "Questions:\n",
    "-  What is the dimensionality of the space spanned by $X$?\n",
    "-  Is $X$ an orthonormal basis set?  Why/why not?\n",
    "-  How would you test the idempotency property?\n",
    "\n",
    "If $X$ is not orthonormal, $(X^\\prime X)^{-1}$ includes several \"normalizing\" elements:\n",
    "\n",
    "-  It includes a normalizing factor that is related to $\\frac{1}{\\mathrm{norm}(X)}$ (and is exactly this for orthogonal matrices).\n",
    "-  It rotates the axes of the space into an orthogonal space defined by the columns of $X$, so that the betas reflect the unique projection onto the corresponding column of $X$.\n",
    "\n",
    "By using the inverse, we are rotating the space, in this case to an orthonormal basis that spans the model subspace defined by $X$.\n",
    "\n",
    "## Multivariate distance (Mahalanobis)\n",
    "\n",
    "There is a close relationship between multivariate distance and the solution to beta-hat. We can think of this as rotating the axes of the space  to the axes defined by the covariance of X.\n",
    "\n",
    "*MATLAB version ended here*. Note that the SciPy library provides a ready-to-use Mahalanobis distance function: \n",
    "```python\n",
    "from scipy.spatial.distance import mahalanobis\n",
    "```"
   ]
  }
 ],
 "metadata": {
  "kernelspec": {
   "display_name": "psyc178",
   "language": "python",
   "name": "python3"
  },
  "language_info": {
   "codemirror_mode": {
    "name": "ipython",
    "version": 3
   },
   "file_extension": ".py",
   "mimetype": "text/x-python",
   "name": "python",
   "nbconvert_exporter": "python",
   "pygments_lexer": "ipython3",
   "version": "3.10.12"
  }
 },
 "nbformat": 4,
 "nbformat_minor": 5
}
